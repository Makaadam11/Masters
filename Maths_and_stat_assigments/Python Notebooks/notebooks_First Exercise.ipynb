{
  "cells": [
    {
      "cell_type": "markdown",
      "metadata": {},
      "source": [
        "# Tasks to perform: #\n",
        "**Variables** \n",
        "Year \n",
        "Age \n",
        "GenderNum: 1=Male, 2=Female, 3=Non-binary \n",
        "AutismQuotient: Higher values indicate greater self-reported Autism traits.  \n",
        "STAI = State Trait Anxiety Inventory. Higher scores indicate greater trait (i.e. everyday) anxiety. \n",
        "BRIEF_Total: Behaviour Rating Inventory of Executive Function \n",
        "Device: Android, iPhone or NoPhone/Different (could not log use)  \n",
        "DailyAvgMins: Minutes; Mean objective time on mobile phone per day (sample across a week) \n",
        "DailyAvePickups: Pickup counts; Mean objective number of times phone was picked up (screen wakes from asleep) per day (sample across a week) \n",
        "VS_RT_correct_Conjunction: Milliseconds; Mean time taken (reaction time; RT) to locate target red apple amongst distractors of both blue apples and red slices \n",
        "VS_RT_correct_Single: Milliseconds; Mean time taken (reaction time; RT) to locate target red apple amongst distractors of only blue apples \n",
        "**Some specifics of the data:**\n",
        "Age, AutismQuotient, STAI, BRIEF_Total, DailyAvgMins and DailyAvgPickups should all be int64. \n",
        "Device is a string (catgeorical).\n",
        "\n",
        "1. Load in data \n",
        "2. Present data in a table \n",
        "3. Identify data types in each column :\n",
        "    1. Use this MASTER_PhonesmartdataAll_CCI_AdvStats.csv and observe\n",
        "    2. Use this V2_MASTER_PhonesmartdataAll_CCI_AdvStats.csv and observe\n",
        "    Do you find any difference\n",
        "4. Visualise data \n",
        "    * Generate a bar chart of mean value for VS_RT_correct_Conjunction and VS_RT_correct_Single \n",
        "    * Generate a scatter plot of VS_RT_correct_Conjunction against VS_RT_correct_Single \n",
        "    * Generate a histogram for  \n",
        "        * DailyAvgMins \n",
        "        * VS_RT_correct_Conjunction \n",
        "        * VS_RT_correct_Single "
      ]
    },
    {
      "cell_type": "markdown",
      "metadata": {},
      "source": [
        "## About Pandas: \n",
        "**Python library- WORK-data sets: analyzing, cleaning, exploring, and manipulating data**"
      ]
    },
    {
      "cell_type": "code",
      "execution_count": 1,
      "metadata": {
        "trusted": true
      },
      "outputs": [],
      "source": [
        "import pandas as pd"
      ]
    },
    {
      "cell_type": "markdown",
      "metadata": {},
      "source": [
        "## Load and Present data in a table \n",
        "**Data Frames: Primary Data structure- Display data as Table**"
      ]
    },
    {
      "cell_type": "code",
      "execution_count": 2,
      "metadata": {
        "trusted": true
      },
      "outputs": [],
      "source": [
        "df =pd.DataFrame(pd.read_csv('Data Sets/V2_MASTER_PhonesmartdataAll_CCI_AdvStats.csv'))"
      ]
    },
    {
      "cell_type": "markdown",
      "metadata": {},
      "source": [
        "## Display data:"
      ]
    },
    {
      "cell_type": "code",
      "execution_count": 3,
      "metadata": {
        "trusted": true
      },
      "outputs": [
        {
          "data": {
            "text/html": [
              "<div>\n",
              "<style scoped>\n",
              "    .dataframe tbody tr th:only-of-type {\n",
              "        vertical-align: middle;\n",
              "    }\n",
              "\n",
              "    .dataframe tbody tr th {\n",
              "        vertical-align: top;\n",
              "    }\n",
              "\n",
              "    .dataframe thead th {\n",
              "        text-align: right;\n",
              "    }\n",
              "</style>\n",
              "<table border=\"1\" class=\"dataframe\">\n",
              "  <thead>\n",
              "    <tr style=\"text-align: right;\">\n",
              "      <th></th>\n",
              "      <th>Year</th>\n",
              "      <th>Age</th>\n",
              "      <th>GenderNum</th>\n",
              "      <th>AutismQuotient</th>\n",
              "      <th>STAI</th>\n",
              "      <th>BRIEF_Total</th>\n",
              "      <th>Device</th>\n",
              "      <th>DailyAvgMins</th>\n",
              "      <th>DailyAvePickups</th>\n",
              "      <th>VS_RT_correct_Conjunction</th>\n",
              "      <th>VS_RT_correct_Single</th>\n",
              "    </tr>\n",
              "  </thead>\n",
              "  <tbody>\n",
              "    <tr>\n",
              "      <th>0</th>\n",
              "      <td>2022</td>\n",
              "      <td>16</td>\n",
              "      <td>2.0</td>\n",
              "      <td>4</td>\n",
              "      <td>49</td>\n",
              "      <td>70</td>\n",
              "      <td>iphone</td>\n",
              "      <td>0</td>\n",
              "      <td>32</td>\n",
              "      <td>1178.700000</td>\n",
              "      <td>1216.387500</td>\n",
              "    </tr>\n",
              "    <tr>\n",
              "      <th>1</th>\n",
              "      <td>2021</td>\n",
              "      <td>37</td>\n",
              "      <td>2.0</td>\n",
              "      <td>8</td>\n",
              "      <td>44</td>\n",
              "      <td>33</td>\n",
              "      <td>iphone</td>\n",
              "      <td>0</td>\n",
              "      <td>32</td>\n",
              "      <td>946.470000</td>\n",
              "      <td>785.597500</td>\n",
              "    </tr>\n",
              "    <tr>\n",
              "      <th>2</th>\n",
              "      <td>2022</td>\n",
              "      <td>16</td>\n",
              "      <td>1.0</td>\n",
              "      <td>4</td>\n",
              "      <td>20</td>\n",
              "      <td>40</td>\n",
              "      <td>iphone</td>\n",
              "      <td>0</td>\n",
              "      <td>32</td>\n",
              "      <td>1182.741667</td>\n",
              "      <td>950.900000</td>\n",
              "    </tr>\n",
              "    <tr>\n",
              "      <th>3</th>\n",
              "      <td>2022</td>\n",
              "      <td>16</td>\n",
              "      <td>1.0</td>\n",
              "      <td>2</td>\n",
              "      <td>21</td>\n",
              "      <td>0</td>\n",
              "      <td>iphone</td>\n",
              "      <td>0</td>\n",
              "      <td>32</td>\n",
              "      <td>1778.950000</td>\n",
              "      <td>984.333333</td>\n",
              "    </tr>\n",
              "    <tr>\n",
              "      <th>4</th>\n",
              "      <td>2022</td>\n",
              "      <td>16</td>\n",
              "      <td>2.0</td>\n",
              "      <td>4</td>\n",
              "      <td>21</td>\n",
              "      <td>0</td>\n",
              "      <td>iphone</td>\n",
              "      <td>0</td>\n",
              "      <td>32</td>\n",
              "      <td>521.500000</td>\n",
              "      <td>503.000000</td>\n",
              "    </tr>\n",
              "    <tr>\n",
              "      <th>...</th>\n",
              "      <td>...</td>\n",
              "      <td>...</td>\n",
              "      <td>...</td>\n",
              "      <td>...</td>\n",
              "      <td>...</td>\n",
              "      <td>...</td>\n",
              "      <td>...</td>\n",
              "      <td>...</td>\n",
              "      <td>...</td>\n",
              "      <td>...</td>\n",
              "      <td>...</td>\n",
              "    </tr>\n",
              "    <tr>\n",
              "      <th>543</th>\n",
              "      <td>2020</td>\n",
              "      <td>38</td>\n",
              "      <td>1.0</td>\n",
              "      <td>3</td>\n",
              "      <td>56</td>\n",
              "      <td>39</td>\n",
              "      <td>iPhone</td>\n",
              "      <td>507</td>\n",
              "      <td>32</td>\n",
              "      <td>915.785917</td>\n",
              "      <td>747.883194</td>\n",
              "    </tr>\n",
              "    <tr>\n",
              "      <th>544</th>\n",
              "      <td>2020</td>\n",
              "      <td>27</td>\n",
              "      <td>2.0</td>\n",
              "      <td>5</td>\n",
              "      <td>64</td>\n",
              "      <td>77</td>\n",
              "      <td>iPhone</td>\n",
              "      <td>267</td>\n",
              "      <td>32</td>\n",
              "      <td>877.783333</td>\n",
              "      <td>720.729583</td>\n",
              "    </tr>\n",
              "    <tr>\n",
              "      <th>545</th>\n",
              "      <td>2020</td>\n",
              "      <td>36</td>\n",
              "      <td>2.0</td>\n",
              "      <td>2</td>\n",
              "      <td>46</td>\n",
              "      <td>43</td>\n",
              "      <td>iPhone</td>\n",
              "      <td>610</td>\n",
              "      <td>32</td>\n",
              "      <td>1211.483333</td>\n",
              "      <td>1049.979167</td>\n",
              "    </tr>\n",
              "    <tr>\n",
              "      <th>546</th>\n",
              "      <td>2020</td>\n",
              "      <td>31</td>\n",
              "      <td>2.0</td>\n",
              "      <td>4</td>\n",
              "      <td>67</td>\n",
              "      <td>69</td>\n",
              "      <td>iPhone</td>\n",
              "      <td>558</td>\n",
              "      <td>32</td>\n",
              "      <td>899.774583</td>\n",
              "      <td>845.612083</td>\n",
              "    </tr>\n",
              "    <tr>\n",
              "      <th>547</th>\n",
              "      <td>2020</td>\n",
              "      <td>35</td>\n",
              "      <td>2.0</td>\n",
              "      <td>1</td>\n",
              "      <td>42</td>\n",
              "      <td>24</td>\n",
              "      <td>iPhone</td>\n",
              "      <td>88</td>\n",
              "      <td>32</td>\n",
              "      <td>1048.395417</td>\n",
              "      <td>792.282500</td>\n",
              "    </tr>\n",
              "  </tbody>\n",
              "</table>\n",
              "<p>548 rows × 11 columns</p>\n",
              "</div>"
            ],
            "text/plain": [
              "     Year  Age  GenderNum  AutismQuotient  STAI  BRIEF_Total  Device  \\\n",
              "0    2022   16        2.0               4    49           70  iphone   \n",
              "1    2021   37        2.0               8    44           33  iphone   \n",
              "2    2022   16        1.0               4    20           40  iphone   \n",
              "3    2022   16        1.0               2    21            0  iphone   \n",
              "4    2022   16        2.0               4    21            0  iphone   \n",
              "..    ...  ...        ...             ...   ...          ...     ...   \n",
              "543  2020   38        1.0               3    56           39  iPhone   \n",
              "544  2020   27        2.0               5    64           77  iPhone   \n",
              "545  2020   36        2.0               2    46           43  iPhone   \n",
              "546  2020   31        2.0               4    67           69  iPhone   \n",
              "547  2020   35        2.0               1    42           24  iPhone   \n",
              "\n",
              "     DailyAvgMins  DailyAvePickups  VS_RT_correct_Conjunction  \\\n",
              "0               0               32                1178.700000   \n",
              "1               0               32                 946.470000   \n",
              "2               0               32                1182.741667   \n",
              "3               0               32                1778.950000   \n",
              "4               0               32                 521.500000   \n",
              "..            ...              ...                        ...   \n",
              "543           507               32                 915.785917   \n",
              "544           267               32                 877.783333   \n",
              "545           610               32                1211.483333   \n",
              "546           558               32                 899.774583   \n",
              "547            88               32                1048.395417   \n",
              "\n",
              "     VS_RT_correct_Single  \n",
              "0             1216.387500  \n",
              "1              785.597500  \n",
              "2              950.900000  \n",
              "3              984.333333  \n",
              "4              503.000000  \n",
              "..                    ...  \n",
              "543            747.883194  \n",
              "544            720.729583  \n",
              "545           1049.979167  \n",
              "546            845.612083  \n",
              "547            792.282500  \n",
              "\n",
              "[548 rows x 11 columns]"
            ]
          },
          "execution_count": 3,
          "metadata": {},
          "output_type": "execute_result"
        }
      ],
      "source": [
        "df"
      ]
    },
    {
      "cell_type": "markdown",
      "metadata": {},
      "source": [
        "## Display top 5 rows:"
      ]
    },
    {
      "cell_type": "code",
      "execution_count": 4,
      "metadata": {
        "tags": [],
        "trusted": true
      },
      "outputs": [
        {
          "data": {
            "text/html": [
              "<div>\n",
              "<style scoped>\n",
              "    .dataframe tbody tr th:only-of-type {\n",
              "        vertical-align: middle;\n",
              "    }\n",
              "\n",
              "    .dataframe tbody tr th {\n",
              "        vertical-align: top;\n",
              "    }\n",
              "\n",
              "    .dataframe thead th {\n",
              "        text-align: right;\n",
              "    }\n",
              "</style>\n",
              "<table border=\"1\" class=\"dataframe\">\n",
              "  <thead>\n",
              "    <tr style=\"text-align: right;\">\n",
              "      <th></th>\n",
              "      <th>Year</th>\n",
              "      <th>Age</th>\n",
              "      <th>GenderNum</th>\n",
              "      <th>AutismQuotient</th>\n",
              "      <th>STAI</th>\n",
              "      <th>BRIEF_Total</th>\n",
              "      <th>Device</th>\n",
              "      <th>DailyAvgMins</th>\n",
              "      <th>DailyAvePickups</th>\n",
              "      <th>VS_RT_correct_Conjunction</th>\n",
              "      <th>VS_RT_correct_Single</th>\n",
              "    </tr>\n",
              "  </thead>\n",
              "  <tbody>\n",
              "    <tr>\n",
              "      <th>0</th>\n",
              "      <td>2022</td>\n",
              "      <td>16</td>\n",
              "      <td>2.0</td>\n",
              "      <td>4</td>\n",
              "      <td>49</td>\n",
              "      <td>70</td>\n",
              "      <td>iphone</td>\n",
              "      <td>0</td>\n",
              "      <td>32</td>\n",
              "      <td>1178.700000</td>\n",
              "      <td>1216.387500</td>\n",
              "    </tr>\n",
              "    <tr>\n",
              "      <th>1</th>\n",
              "      <td>2021</td>\n",
              "      <td>37</td>\n",
              "      <td>2.0</td>\n",
              "      <td>8</td>\n",
              "      <td>44</td>\n",
              "      <td>33</td>\n",
              "      <td>iphone</td>\n",
              "      <td>0</td>\n",
              "      <td>32</td>\n",
              "      <td>946.470000</td>\n",
              "      <td>785.597500</td>\n",
              "    </tr>\n",
              "    <tr>\n",
              "      <th>2</th>\n",
              "      <td>2022</td>\n",
              "      <td>16</td>\n",
              "      <td>1.0</td>\n",
              "      <td>4</td>\n",
              "      <td>20</td>\n",
              "      <td>40</td>\n",
              "      <td>iphone</td>\n",
              "      <td>0</td>\n",
              "      <td>32</td>\n",
              "      <td>1182.741667</td>\n",
              "      <td>950.900000</td>\n",
              "    </tr>\n",
              "    <tr>\n",
              "      <th>3</th>\n",
              "      <td>2022</td>\n",
              "      <td>16</td>\n",
              "      <td>1.0</td>\n",
              "      <td>2</td>\n",
              "      <td>21</td>\n",
              "      <td>0</td>\n",
              "      <td>iphone</td>\n",
              "      <td>0</td>\n",
              "      <td>32</td>\n",
              "      <td>1778.950000</td>\n",
              "      <td>984.333333</td>\n",
              "    </tr>\n",
              "    <tr>\n",
              "      <th>4</th>\n",
              "      <td>2022</td>\n",
              "      <td>16</td>\n",
              "      <td>2.0</td>\n",
              "      <td>4</td>\n",
              "      <td>21</td>\n",
              "      <td>0</td>\n",
              "      <td>iphone</td>\n",
              "      <td>0</td>\n",
              "      <td>32</td>\n",
              "      <td>521.500000</td>\n",
              "      <td>503.000000</td>\n",
              "    </tr>\n",
              "  </tbody>\n",
              "</table>\n",
              "</div>"
            ],
            "text/plain": [
              "   Year  Age  GenderNum  AutismQuotient  STAI  BRIEF_Total  Device  \\\n",
              "0  2022   16        2.0               4    49           70  iphone   \n",
              "1  2021   37        2.0               8    44           33  iphone   \n",
              "2  2022   16        1.0               4    20           40  iphone   \n",
              "3  2022   16        1.0               2    21            0  iphone   \n",
              "4  2022   16        2.0               4    21            0  iphone   \n",
              "\n",
              "   DailyAvgMins  DailyAvePickups  VS_RT_correct_Conjunction  \\\n",
              "0             0               32                1178.700000   \n",
              "1             0               32                 946.470000   \n",
              "2             0               32                1182.741667   \n",
              "3             0               32                1778.950000   \n",
              "4             0               32                 521.500000   \n",
              "\n",
              "   VS_RT_correct_Single  \n",
              "0           1216.387500  \n",
              "1            785.597500  \n",
              "2            950.900000  \n",
              "3            984.333333  \n",
              "4            503.000000  "
            ]
          },
          "execution_count": 4,
          "metadata": {},
          "output_type": "execute_result"
        }
      ],
      "source": [
        "df.head()"
      ]
    },
    {
      "cell_type": "markdown",
      "metadata": {},
      "source": [
        "## Task FOR YOU TO TRY AFTER CLASS: \n",
        "**Play around customizing your Table formatting 1. Column width 2. Alignment 3. Colours**"
      ]
    },
    {
      "cell_type": "code",
      "execution_count": 33,
      "metadata": {},
      "outputs": [
        {
          "data": {
            "text/html": [
              "<style type=\"text/css\">\n",
              "#T_d197c_row0_col9, #T_d197c_row1_col9, #T_d197c_row2_col9, #T_d197c_row3_col9, #T_d197c_row4_col9 {\n",
              "  width: 500px;\n",
              "  text-align: left;\n",
              "  color: red;\n",
              "}\n",
              "</style>\n",
              "<table id=\"T_d197c\">\n",
              "  <thead>\n",
              "    <tr>\n",
              "      <th class=\"blank level0\" >&nbsp;</th>\n",
              "      <th id=\"T_d197c_level0_col0\" class=\"col_heading level0 col0\" >Year</th>\n",
              "      <th id=\"T_d197c_level0_col1\" class=\"col_heading level0 col1\" >Age</th>\n",
              "      <th id=\"T_d197c_level0_col2\" class=\"col_heading level0 col2\" >GenderNum</th>\n",
              "      <th id=\"T_d197c_level0_col3\" class=\"col_heading level0 col3\" >AutismQuotient</th>\n",
              "      <th id=\"T_d197c_level0_col4\" class=\"col_heading level0 col4\" >STAI</th>\n",
              "      <th id=\"T_d197c_level0_col5\" class=\"col_heading level0 col5\" >BRIEF_Total</th>\n",
              "      <th id=\"T_d197c_level0_col6\" class=\"col_heading level0 col6\" >Device</th>\n",
              "      <th id=\"T_d197c_level0_col7\" class=\"col_heading level0 col7\" >DailyAvgMins</th>\n",
              "      <th id=\"T_d197c_level0_col8\" class=\"col_heading level0 col8\" >DailyAvePickups</th>\n",
              "      <th id=\"T_d197c_level0_col9\" class=\"col_heading level0 col9\" >VS_RT_correct_Conjunction</th>\n",
              "      <th id=\"T_d197c_level0_col10\" class=\"col_heading level0 col10\" >VS_RT_correct_Single</th>\n",
              "    </tr>\n",
              "  </thead>\n",
              "  <tbody>\n",
              "    <tr>\n",
              "      <th id=\"T_d197c_level0_row0\" class=\"row_heading level0 row0\" >0</th>\n",
              "      <td id=\"T_d197c_row0_col0\" class=\"data row0 col0\" >2022</td>\n",
              "      <td id=\"T_d197c_row0_col1\" class=\"data row0 col1\" >16</td>\n",
              "      <td id=\"T_d197c_row0_col2\" class=\"data row0 col2\" >2.000000</td>\n",
              "      <td id=\"T_d197c_row0_col3\" class=\"data row0 col3\" >4</td>\n",
              "      <td id=\"T_d197c_row0_col4\" class=\"data row0 col4\" >49</td>\n",
              "      <td id=\"T_d197c_row0_col5\" class=\"data row0 col5\" >70</td>\n",
              "      <td id=\"T_d197c_row0_col6\" class=\"data row0 col6\" >iphone</td>\n",
              "      <td id=\"T_d197c_row0_col7\" class=\"data row0 col7\" >0</td>\n",
              "      <td id=\"T_d197c_row0_col8\" class=\"data row0 col8\" >32</td>\n",
              "      <td id=\"T_d197c_row0_col9\" class=\"data row0 col9\" >1178.700000</td>\n",
              "      <td id=\"T_d197c_row0_col10\" class=\"data row0 col10\" >1216.387500</td>\n",
              "    </tr>\n",
              "    <tr>\n",
              "      <th id=\"T_d197c_level0_row1\" class=\"row_heading level0 row1\" >1</th>\n",
              "      <td id=\"T_d197c_row1_col0\" class=\"data row1 col0\" >2021</td>\n",
              "      <td id=\"T_d197c_row1_col1\" class=\"data row1 col1\" >37</td>\n",
              "      <td id=\"T_d197c_row1_col2\" class=\"data row1 col2\" >2.000000</td>\n",
              "      <td id=\"T_d197c_row1_col3\" class=\"data row1 col3\" >8</td>\n",
              "      <td id=\"T_d197c_row1_col4\" class=\"data row1 col4\" >44</td>\n",
              "      <td id=\"T_d197c_row1_col5\" class=\"data row1 col5\" >33</td>\n",
              "      <td id=\"T_d197c_row1_col6\" class=\"data row1 col6\" >iphone</td>\n",
              "      <td id=\"T_d197c_row1_col7\" class=\"data row1 col7\" >0</td>\n",
              "      <td id=\"T_d197c_row1_col8\" class=\"data row1 col8\" >32</td>\n",
              "      <td id=\"T_d197c_row1_col9\" class=\"data row1 col9\" >946.470000</td>\n",
              "      <td id=\"T_d197c_row1_col10\" class=\"data row1 col10\" >785.597500</td>\n",
              "    </tr>\n",
              "    <tr>\n",
              "      <th id=\"T_d197c_level0_row2\" class=\"row_heading level0 row2\" >2</th>\n",
              "      <td id=\"T_d197c_row2_col0\" class=\"data row2 col0\" >2022</td>\n",
              "      <td id=\"T_d197c_row2_col1\" class=\"data row2 col1\" >16</td>\n",
              "      <td id=\"T_d197c_row2_col2\" class=\"data row2 col2\" >1.000000</td>\n",
              "      <td id=\"T_d197c_row2_col3\" class=\"data row2 col3\" >4</td>\n",
              "      <td id=\"T_d197c_row2_col4\" class=\"data row2 col4\" >20</td>\n",
              "      <td id=\"T_d197c_row2_col5\" class=\"data row2 col5\" >40</td>\n",
              "      <td id=\"T_d197c_row2_col6\" class=\"data row2 col6\" >iphone</td>\n",
              "      <td id=\"T_d197c_row2_col7\" class=\"data row2 col7\" >0</td>\n",
              "      <td id=\"T_d197c_row2_col8\" class=\"data row2 col8\" >32</td>\n",
              "      <td id=\"T_d197c_row2_col9\" class=\"data row2 col9\" >1182.741667</td>\n",
              "      <td id=\"T_d197c_row2_col10\" class=\"data row2 col10\" >950.900000</td>\n",
              "    </tr>\n",
              "    <tr>\n",
              "      <th id=\"T_d197c_level0_row3\" class=\"row_heading level0 row3\" >3</th>\n",
              "      <td id=\"T_d197c_row3_col0\" class=\"data row3 col0\" >2022</td>\n",
              "      <td id=\"T_d197c_row3_col1\" class=\"data row3 col1\" >16</td>\n",
              "      <td id=\"T_d197c_row3_col2\" class=\"data row3 col2\" >1.000000</td>\n",
              "      <td id=\"T_d197c_row3_col3\" class=\"data row3 col3\" >2</td>\n",
              "      <td id=\"T_d197c_row3_col4\" class=\"data row3 col4\" >21</td>\n",
              "      <td id=\"T_d197c_row3_col5\" class=\"data row3 col5\" >0</td>\n",
              "      <td id=\"T_d197c_row3_col6\" class=\"data row3 col6\" >iphone</td>\n",
              "      <td id=\"T_d197c_row3_col7\" class=\"data row3 col7\" >0</td>\n",
              "      <td id=\"T_d197c_row3_col8\" class=\"data row3 col8\" >32</td>\n",
              "      <td id=\"T_d197c_row3_col9\" class=\"data row3 col9\" >1778.950000</td>\n",
              "      <td id=\"T_d197c_row3_col10\" class=\"data row3 col10\" >984.333333</td>\n",
              "    </tr>\n",
              "    <tr>\n",
              "      <th id=\"T_d197c_level0_row4\" class=\"row_heading level0 row4\" >4</th>\n",
              "      <td id=\"T_d197c_row4_col0\" class=\"data row4 col0\" >2022</td>\n",
              "      <td id=\"T_d197c_row4_col1\" class=\"data row4 col1\" >16</td>\n",
              "      <td id=\"T_d197c_row4_col2\" class=\"data row4 col2\" >2.000000</td>\n",
              "      <td id=\"T_d197c_row4_col3\" class=\"data row4 col3\" >4</td>\n",
              "      <td id=\"T_d197c_row4_col4\" class=\"data row4 col4\" >21</td>\n",
              "      <td id=\"T_d197c_row4_col5\" class=\"data row4 col5\" >0</td>\n",
              "      <td id=\"T_d197c_row4_col6\" class=\"data row4 col6\" >iphone</td>\n",
              "      <td id=\"T_d197c_row4_col7\" class=\"data row4 col7\" >0</td>\n",
              "      <td id=\"T_d197c_row4_col8\" class=\"data row4 col8\" >32</td>\n",
              "      <td id=\"T_d197c_row4_col9\" class=\"data row4 col9\" >521.500000</td>\n",
              "      <td id=\"T_d197c_row4_col10\" class=\"data row4 col10\" >503.000000</td>\n",
              "    </tr>\n",
              "  </tbody>\n",
              "</table>\n"
            ],
            "text/plain": [
              "<pandas.io.formats.style.Styler at 0x248e6729100>"
            ]
          },
          "execution_count": 33,
          "metadata": {},
          "output_type": "execute_result"
        }
      ],
      "source": [
        "\n",
        "styled_df  = df.head().style.set_properties(subset=['VS_RT_correct_Conjunction'], **{'width': '500px'}, **{'text-align': 'left'}, **{'color': 'red'})\n",
        "styled_df"
      ]
    },
    {
      "cell_type": "code",
      "execution_count": null,
      "metadata": {},
      "outputs": [],
      "source": []
    },
    {
      "cell_type": "markdown",
      "metadata": {},
      "source": [
        "## Identify the Data types of your Columns\n",
        "**Data Types: int, float, bool, datetime, timedelta, category, and object etc.,**"
      ]
    },
    {
      "cell_type": "code",
      "execution_count": 6,
      "metadata": {
        "trusted": true
      },
      "outputs": [
        {
          "name": "stdout",
          "output_type": "stream",
          "text": [
            "Year                           int64\n",
            "Age                            int64\n",
            "GenderNum                    float64\n",
            "AutismQuotient                 int64\n",
            "STAI                           int64\n",
            "BRIEF_Total                    int64\n",
            "Device                        object\n",
            "DailyAvgMins                   int64\n",
            "DailyAvePickups                int64\n",
            "VS_RT_correct_Conjunction    float64\n",
            "VS_RT_correct_Single         float64\n",
            "dtype: object\n"
          ]
        }
      ],
      "source": [
        "print(df.dtypes)"
      ]
    },
    {
      "cell_type": "code",
      "execution_count": 7,
      "metadata": {
        "trusted": true
      },
      "outputs": [
        {
          "name": "stdout",
          "output_type": "stream",
          "text": [
            "Year                           int64\n",
            "Age                            int64\n",
            "GenderNum                    float64\n",
            "AutismQuotient                 int64\n",
            "STAI                           int64\n",
            "BRIEF_Total                    int64\n",
            "Device                        object\n",
            "DailyAvgMins                   int64\n",
            "DailyAvePickups                int64\n",
            "VS_RT_correct_Conjunction    float64\n",
            "VS_RT_correct_Single         float64\n",
            "dtype: object\n"
          ]
        }
      ],
      "source": [
        "df = df.infer_objects()\n",
        "print(df.dtypes)"
      ]
    },
    {
      "cell_type": "code",
      "execution_count": 8,
      "metadata": {
        "trusted": true
      },
      "outputs": [
        {
          "name": "stdout",
          "output_type": "stream",
          "text": [
            "<class 'pandas.core.frame.DataFrame'>\n",
            "RangeIndex: 548 entries, 0 to 547\n",
            "Data columns (total 11 columns):\n",
            " #   Column                     Non-Null Count  Dtype  \n",
            "---  ------                     --------------  -----  \n",
            " 0   Year                       548 non-null    int64  \n",
            " 1   Age                        548 non-null    int64  \n",
            " 2   GenderNum                  543 non-null    float64\n",
            " 3   AutismQuotient             548 non-null    int64  \n",
            " 4   STAI                       548 non-null    int64  \n",
            " 5   BRIEF_Total                548 non-null    int64  \n",
            " 6   Device                     548 non-null    object \n",
            " 7   DailyAvgMins               548 non-null    int64  \n",
            " 8   DailyAvePickups            548 non-null    int64  \n",
            " 9   VS_RT_correct_Conjunction  548 non-null    float64\n",
            " 10  VS_RT_correct_Single       548 non-null    float64\n",
            "dtypes: float64(3), int64(7), object(1)\n",
            "memory usage: 47.2+ KB\n"
          ]
        }
      ],
      "source": [
        "# Check if the data has null values\n",
        "df.info()"
      ]
    },
    {
      "cell_type": "code",
      "execution_count": 9,
      "metadata": {
        "trusted": true
      },
      "outputs": [
        {
          "name": "stdout",
          "output_type": "stream",
          "text": [
            "Year                         0\n",
            "Age                          0\n",
            "GenderNum                    5\n",
            "AutismQuotient               0\n",
            "STAI                         0\n",
            "BRIEF_Total                  0\n",
            "Device                       0\n",
            "DailyAvgMins                 0\n",
            "DailyAvePickups              0\n",
            "VS_RT_correct_Conjunction    0\n",
            "VS_RT_correct_Single         0\n",
            "dtype: int64\n"
          ]
        }
      ],
      "source": [
        "print(df.isnull().sum())"
      ]
    },
    {
      "cell_type": "code",
      "execution_count": 10,
      "metadata": {
        "trusted": true
      },
      "outputs": [],
      "source": [
        "df.dropna(inplace = True)"
      ]
    },
    {
      "cell_type": "code",
      "execution_count": 11,
      "metadata": {
        "trusted": true
      },
      "outputs": [
        {
          "name": "stdout",
          "output_type": "stream",
          "text": [
            "<class 'pandas.core.frame.DataFrame'>\n",
            "Index: 543 entries, 0 to 547\n",
            "Data columns (total 11 columns):\n",
            " #   Column                     Non-Null Count  Dtype  \n",
            "---  ------                     --------------  -----  \n",
            " 0   Year                       543 non-null    int64  \n",
            " 1   Age                        543 non-null    int64  \n",
            " 2   GenderNum                  543 non-null    float64\n",
            " 3   AutismQuotient             543 non-null    int64  \n",
            " 4   STAI                       543 non-null    int64  \n",
            " 5   BRIEF_Total                543 non-null    int64  \n",
            " 6   Device                     543 non-null    object \n",
            " 7   DailyAvgMins               543 non-null    int64  \n",
            " 8   DailyAvePickups            543 non-null    int64  \n",
            " 9   VS_RT_correct_Conjunction  543 non-null    float64\n",
            " 10  VS_RT_correct_Single       543 non-null    float64\n",
            "dtypes: float64(3), int64(7), object(1)\n",
            "memory usage: 50.9+ KB\n"
          ]
        }
      ],
      "source": [
        "df.info()"
      ]
    },
    {
      "cell_type": "code",
      "execution_count": 12,
      "metadata": {
        "trusted": true
      },
      "outputs": [
        {
          "name": "stdout",
          "output_type": "stream",
          "text": [
            "New_dtypes:\n",
            "Year                                  Int64\n",
            "Age                                   Int64\n",
            "GenderNum                             Int64\n",
            "AutismQuotient                        Int64\n",
            "STAI                                  Int64\n",
            "BRIEF_Total                           Int64\n",
            "Device                       string[python]\n",
            "DailyAvgMins                          Int64\n",
            "DailyAvePickups                       Int64\n",
            "VS_RT_correct_Conjunction           Float64\n",
            "VS_RT_correct_Single                Float64\n",
            "dtype: object\n"
          ]
        }
      ],
      "source": [
        "\n",
        "#Age, AutismQuotient, STAI, BRIEF_Total, DailyAvgMins and DailyAvgPickups should all be int64. Device is a string (catgeorical).\n",
        "newdf = df.convert_dtypes()\n",
        "print(\"New_dtypes:\")\n",
        "print(newdf.dtypes)"
      ]
    },
    {
      "cell_type": "markdown",
      "metadata": {},
      "source": [
        "## Visualize Data\n",
        "**Generate a bar chart of mean value for VS_RT_correct_Conjunction and VS_RT_correct_Single**"
      ]
    },
    {
      "cell_type": "markdown",
      "metadata": {},
      "source": [
        "**MEAN**\n",
        "Ex: Find the mean of 1, 3, 5, 7, 9, 11\n",
        "Soln:\n",
        "1. number of observations = 6\n",
        "2. sum of observations = 1 + 3 + 5 + 7 + 9 + 11 = 36\n",
        "3. Mean = 36 / 6 = 6"
      ]
    },
    {
      "cell_type": "code",
      "execution_count": 13,
      "metadata": {
        "trusted": true
      },
      "outputs": [
        {
          "name": "stdout",
          "output_type": "stream",
          "text": [
            "942.2792440979742\n"
          ]
        }
      ],
      "source": [
        "#Mean of VS_RT_correct_Conjunction\n",
        "\n",
        "mean_Conj = df['VS_RT_correct_Conjunction'].mean()\n",
        "print (mean_Conj)"
      ]
    },
    {
      "cell_type": "code",
      "execution_count": 14,
      "metadata": {
        "trusted": true
      },
      "outputs": [
        {
          "name": "stdout",
          "output_type": "stream",
          "text": [
            "841.213786119337\n"
          ]
        }
      ],
      "source": [
        "#Mean of VS_RT_correct_Single\n",
        "\n",
        "mean_Sing = df['VS_RT_correct_Single'].mean()\n",
        "print (mean_Sing)"
      ]
    },
    {
      "cell_type": "markdown",
      "metadata": {},
      "source": [
        "# Plots and Visualisation #\n",
        "1. You can try to plot using 1. Pandas or 2. Matplotlib or 3.seaborn (Note: %pip install seaborn before using it) "
      ]
    },
    {
      "cell_type": "markdown",
      "metadata": {},
      "source": [
        "## Plot Bar Chart ##\n",
        "## The bar chart should show two bars split by VS_RT_correct_Conjunction and VS_RT_correct_Single on the x-axis with the y-axis showing mean RT ##"
      ]
    },
    {
      "cell_type": "code",
      "execution_count": 15,
      "metadata": {
        "trusted": true
      },
      "outputs": [
        {
          "name": "stderr",
          "output_type": "stream",
          "text": [
            "No artists with labels found to put in legend.  Note that artists whose label start with an underscore are ignored when legend() is called with no argument.\n"
          ]
        },
        {
          "data": {
            "image/png": "[encoded data removed]",
            "text/plain": [
              "<Figure size 640x480 with 1 Axes>"
            ]
          },
          "metadata": {},
          "output_type": "display_data"
        }
      ],
      "source": [
        "# Import Matplotlib to plot\n",
        "import numpy as np\n",
        "import matplotlib.pyplot as plt\n",
        "\n",
        "mean_values = df[['VS_RT_correct_Conjunction', 'VS_RT_correct_Single']].mean()\n",
        "mean_values.plot(kind='bar')\n",
        "\n",
        "plt.ylabel(\"Mean Value\") \n",
        "plt.legend() \n",
        "plt.show() "
      ]
    },
    {
      "cell_type": "code",
      "execution_count": null,
      "metadata": {},
      "outputs": [],
      "source": []
    },
    {
      "cell_type": "markdown",
      "metadata": {},
      "source": [
        "## Task FOR YOU TO TRY AFTER CLASS: ##\n",
        "**Play around with abobe Barchart 1. Change Colours 2. Swap x-axis and y-axis 3. Colour 4. Bar width 5. Edge Colour 6. Add Labels and more as you like**\n"
      ]
    },
    {
      "cell_type": "markdown",
      "metadata": {},
      "source": [
        "## Plot SCATTER PLOTS ##\n",
        "## Plotting a scatter plot with VS_RT_correct_Single on x-axis and VS_RT_correct_Conj on y-axis ##"
      ]
    },
    {
      "cell_type": "code",
      "execution_count": 16,
      "metadata": {},
      "outputs": [
        {
          "data": {
            "image/png": "[encoded data removed]",
            "text/plain": [
              "<Figure size 640x480 with 1 Axes>"
            ]
          },
          "metadata": {},
          "output_type": "display_data"
        }
      ],
      "source": [
        "plt.scatter( df['VS_RT_correct_Single'],df['VS_RT_correct_Conjunction'])\n",
        "\n",
        "plt.xlabel('VS_RT_correct_Conjunction')\n",
        "plt.ylabel('VS_RT_correct_Single')\n",
        "plt.title('Scatter Plot: VS_RT_correct_Conjunction vs. VS_RT_correct_Single')\n",
        "plt.show()"
      ]
    },
    {
      "cell_type": "code",
      "execution_count": 17,
      "metadata": {},
      "outputs": [
        {
          "data": {
            "image/png": "[encoded data removed]",
            "text/plain": [
              "<Figure size 1200x400 with 3 Axes>"
            ]
          },
          "metadata": {},
          "output_type": "display_data"
        }
      ],
      "source": [
        "plt.figure(figsize=(12, 4))  # Adjust the figure size as needed\n",
        "plt.subplot(1, 3, 1)\n",
        "plt.hist(df['DailyAvgMins'], bins=10, edgecolor='k')\n",
        "plt.xlabel('DailyAvgMins')\n",
        "plt.ylabel('Value')\n",
        "plt.title('Histogram: DailyAvgMins')\n",
        "\n",
        "plt.subplot(1, 3, 2)\n",
        "plt.hist(df['VS_RT_correct_Conjunction'], bins=10, edgecolor='k')\n",
        "plt.xlabel('VS_RT_correct_Conjunction')\n",
        "plt.ylabel('Value')\n",
        "plt.title('Histogram: VS_RT_correct_Conjunction')\n",
        "\n",
        "plt.subplot(1, 3, 3)\n",
        "plt.hist(df['VS_RT_correct_Single'], bins=10, edgecolor='k')\n",
        "plt.xlabel('VS_RT_correct_Single')\n",
        "plt.ylabel('Value')\n",
        "plt.title('Histogram: VS_RT_correct_Single')\n",
        "\n",
        "plt.tight_layout()  # Ensures the plots do not overlap\n",
        "plt.show()"
      ]
    }
  ],
  "metadata": {
    "kernelspec": {
      "display_name": "Python 3",
      "language": "python",
      "name": "python3"
    },
    "language_info": {
      "codemirror_mode": {
        "name": "ipython",
        "version": 3
      },
      "file_extension": ".py",
      "mimetype": "text/x-python",
      "name": "python",
      "nbconvert_exporter": "python",
      "pygments_lexer": "ipython3",
      "version": "3.12.0"
    }
  },
  "nbformat": 4,
  "nbformat_minor": 4
}
